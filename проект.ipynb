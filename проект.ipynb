{
 "cells": [
  {
   "cell_type": "code",
   "execution_count": 5,
   "id": "3dd31130-c9c9-41b8-8f36-e5c39657b468",
   "metadata": {},
   "outputs": [
    {
     "name": "stdout",
     "output_type": "stream",
     "text": [
      "False\n"
     ]
    },
    {
     "data": {
      "image/png": "[encoded data removed]",
      "text/plain": [
       "<Figure size 640x480 with 1 Axes>"
      ]
     },
     "metadata": {},
     "output_type": "display_data"
    },
    {
     "data": {
      "image/png": "[encoded data removed]",
      "text/plain": [
       "<Figure size 640x480 with 1 Axes>"
      ]
     },
     "metadata": {},
     "output_type": "display_data"
    }
   ],
   "source": [
    "import itertools #матричный метод оказался асимптотически очень невыгодным \n",
    "import networkx as nx\n",
    "import matplotlib.pyplot as plt\n",
    "def get_edges_from_adjacency_matrix(matrix):\n",
    "    edges = []\n",
    "    for i in range(len(matrix)):\n",
    "        for j in range(len(matrix[i])):\n",
    "            if matrix[i][j] == 1:\n",
    "                edges.append((i, j))\n",
    "    return edges\n",
    "\n",
    "# Пример использования функции\n",
    "graph1 = [[0, 1, 0],\n",
    "          [1, 0, 1],\n",
    "          [0, 1, 0]]\n",
    "\n",
    "graph2 = [[0, 1, 0],\n",
    "          [1, 0, 0],\n",
    "          [0, 0, 0]]\n",
    "G1 = nx.Graph(get_edges_from_adjacency_matrix(graph1))\n",
    "G2 = nx.Graph(get_edges_from_adjacency_matrix(graph2))\n",
    "result = nx.is_isomorphic(G1, G2)\n",
    "print(result)\n",
    "plt.figure(1)\n",
    "nx.draw(G2)\n",
    "plt.figure(2)\n",
    "nx.draw(G1)"
   ]
  },
  {
   "cell_type": "code",
   "execution_count": 9,
   "id": "7228f5ea-0102-4a0c-8c8e-ffb47dfe4924",
   "metadata": {},
   "outputs": [
    {
     "name": "stdout",
     "output_type": "stream",
     "text": [
      "True\n",
      "[(0, 1), (1, 2), (1, 0)]\n"
     ]
    }
   ],
   "source": [
    "import networkx as nx #проверка изоморфизма графов Используется алгоритм ульмана\n",
    "\n",
    "graph1 = [    (0, 1),    (1, 2),    (1, 0)]\n",
    "\n",
    "graph2 = [    (0, 1),    (1, 0),    (0, 2)]\n",
    "\n",
    "G1 = nx.Graph()\n",
    "G1.add_edges_from(graph1)\n",
    "\n",
    "G2 = nx.Graph()\n",
    "G2.add_edges_from(graph2)\n",
    "\n",
    "result = nx.is_isomorphic(G1, G2)\n",
    "print(result)\n",
    "print(graph1)\n"
   ]
  },
  {
   "cell_type": "code",
   "execution_count": null,
   "id": "ec86bc78-c8ff-4298-a4db-2f77365dc932",
   "metadata": {},
   "outputs": [],
   "source": [
    "на первом этапе его выполнения составляются списки возможных\n",
    "соответствующих вершин графа G2 для вершин графа G1. Данные кандидаты\n",
    "выбираются исходя из необходимого свойства равенства степеней\n",
    "соответствующих вершин графов. Далее вступает в работу основная идея\n",
    "алгоритма Ульмана. Она заключается в том, что если некоторая вершина L из\n",
    "графа G2 находится в списке возможных соответствий для некоторой\n",
    "вершины M из графа G1, то у каждой соседней вершины M в списке\n",
    "кандидатов на соответствие должна быть хотя бы одна вершина, соседняя с\n",
    "L. При отсутствии выполнения данного условия вершина L удаляется из\n",
    "12\n",
    "списка возможных соответствий для вершины M. Данная проверка\n",
    "производится до тех пор, пока не станут невозможными удаления.\n",
    "Таким образом, по данному алгоритму происходит отсечение\n",
    "неудовлетворяющих вариантов на ранних стадиях вычислений. Временная\n",
    "сложность алгоритма Ульмана для поиска изоморфного подграфа:\n",
    " (\n",
    "\n",
    ") (1)\n",
    "где n – количество вершин исследуемого на изоморфизм графа."
   ]
  },
  {
   "cell_type": "code",
   "execution_count": 12,
   "id": "609c859e-fddd-4d9d-9bcf-98da02e8ebc1",
   "metadata": {},
   "outputs": [],
   "source": [
    "def massiv(n):\n",
    "    a = []\n",
    "    b = int(((n*n-n)/2))\n",
    "    for i in range (0,b):\n",
    "        a.append(0)\n",
    "    for j in range (n-1):\n",
    "        a[j]=1\n",
    "    return a\n",
    "\n"
   ]
  },
  {
   "cell_type": "code",
   "execution_count": 14,
   "id": "99b01ae0-5241-46ee-8700-11c6c1a91ede",
   "metadata": {},
   "outputs": [
    {
     "name": "stdout",
     "output_type": "stream",
     "text": [
      "[[0, 0, 1, 1, 0, 0, 0, 1, 1, 0], [0, 1, 0, 0, 0, 1, 1, 1, 0, 0], [0, 0, 1, 0, 1, 1, 1, 0, 0, 0], [1, 1, 0, 1, 0, 0, 0, 1, 0, 0], [0, 0, 1, 0, 0, 0, 1, 1, 0, 1], [1, 1, 0, 0, 1, 1, 0, 0, 0, 0], [0, 0, 1, 1, 0, 0, 0, 1, 0, 1], [0, 0, 0, 1, 0, 1, 1, 1, 0, 0], [0, 0, 1, 1, 1, 1, 0, 0, 0, 0], [0, 0, 0, 0, 1, 0, 0, 1, 1, 1], [1, 0, 0, 0, 1, 0, 1, 1, 0, 0], [1, 0, 1, 0, 0, 1, 1, 0, 0, 0], [0, 1, 0, 0, 1, 1, 1, 0, 0, 0], [1, 0, 0, 1, 1, 0, 0, 1, 0, 0], [0, 0, 1, 0, 1, 1, 0, 0, 0, 1], [1, 0, 0, 1, 0, 1, 1, 0, 0, 0], [1, 0, 0, 0, 0, 1, 0, 0, 1, 1], [1, 1, 0, 0, 1, 0, 0, 1, 0, 0], [1, 1, 0, 0, 0, 0, 1, 1, 0, 0], [0, 1, 0, 0, 1, 0, 0, 1, 1, 0], [0, 0, 1, 0, 1, 1, 0, 0, 1, 0], [0, 0, 1, 1, 0, 0, 1, 1, 0, 0], [0, 1, 0, 1, 1, 0, 0, 0, 1, 0], [0, 1, 1, 0, 1, 0, 1, 0, 0, 0], [0, 0, 0, 1, 1, 1, 0, 0, 1, 0], [0, 0, 0, 1, 1, 1, 0, 0, 0, 1], [1, 0, 1, 0, 1, 1, 0, 0, 0, 0], [0, 1, 1, 1, 0, 1, 0, 0, 0, 0], [0, 1, 1, 0, 1, 0, 0, 0, 1, 0], [0, 1, 1, 1, 0, 0, 1, 0, 0, 0], [1, 0, 1, 0, 0, 0, 0, 1, 0, 1], [0, 1, 0, 0, 1, 0, 1, 1, 0, 0], [1, 0, 0, 0, 1, 1, 1, 0, 0, 0], [1, 1, 1, 0, 0, 0, 0, 0, 1, 0], [1, 0, 0, 0, 1, 1, 0, 0, 1, 0], [0, 0, 0, 0, 1, 1, 0, 1, 1, 0], [0, 1, 0, 0, 0, 0, 1, 1, 1, 0], [1, 0, 0, 1, 0, 0, 0, 0, 1, 1], [0, 0, 0, 1, 1, 0, 0, 0, 1, 1], [0, 1, 0, 0, 0, 1, 1, 0, 1, 0], [0, 0, 0, 0, 0, 0, 1, 1, 1, 1], [0, 0, 0, 0, 1, 1, 0, 1, 0, 1], [0, 1, 0, 0, 0, 0, 1, 1, 0, 1], [1, 0, 0, 0, 0, 0, 0, 1, 1, 1], [0, 1, 0, 1, 1, 1, 0, 0, 0, 0], [1, 0, 0, 0, 1, 1, 0, 0, 0, 1], [0, 0, 1, 1, 0, 1, 0, 0, 1, 0], [0, 1, 0, 1, 0, 1, 0, 0, 1, 0], [0, 0, 0, 1, 1, 0, 1, 0, 0, 1], [1, 0, 0, 1, 1, 0, 1, 0, 0, 0], [1, 1, 0, 0, 0, 1, 1, 0, 0, 0], [1, 0, 1, 0, 1, 0, 0, 0, 0, 1], [0, 0, 1, 0, 0, 0, 1, 1, 1, 0], [0, 1, 0, 1, 0, 1, 0, 1, 0, 0], [0, 1, 1, 0, 1, 1, 0, 0, 0, 0], [1, 0, 1, 0, 0, 0, 1, 0, 1, 0], [0, 0, 1, 1, 0, 1, 1, 0, 0, 0], [0, 0, 1, 0, 0, 1, 0, 0, 1, 1], [1, 0, 0, 1, 1, 0, 0, 0, 1, 0], [1, 0, 1, 1, 1, 0, 0, 0, 0, 0], [1, 0, 0, 1, 0, 1, 0, 0, 1, 0], [1, 1, 0, 1, 0, 0, 0, 0, 1, 0], [0, 1, 1, 0, 0, 1, 0, 0, 0, 1], [0, 1, 1, 0, 0, 1, 0, 0, 1, 0], [1, 0, 0, 0, 1, 0, 1, 0, 0, 1], [1, 0, 1, 0, 0, 1, 0, 0, 0, 1], [1, 0, 1, 0, 0, 0, 1, 0, 0, 1], [1, 0, 1, 0, 0, 1, 0, 0, 1, 0], [1, 0, 0, 0, 1, 1, 0, 1, 0, 0], [0, 0, 1, 0, 0, 1, 1, 0, 0, 1], [0, 0, 1, 0, 0, 1, 1, 0, 1, 0], [0, 1, 0, 0, 1, 1, 0, 0, 0, 1], [0, 0, 1, 1, 1, 0, 0, 0, 1, 0], [1, 0, 0, 1, 0, 1, 0, 0, 0, 1], [1, 1, 0, 0, 1, 0, 0, 0, 0, 1], [1, 0, 1, 1, 0, 0, 0, 0, 1, 0], [1, 1, 0, 0, 1, 0, 0, 0, 1, 0], [1, 0, 1, 0, 0, 0, 0, 0, 1, 1], [0, 0, 0, 0, 1, 0, 1, 0, 1, 1], [0, 0, 1, 0, 0, 0, 0, 1, 1, 1], [1, 0, 1, 1, 0, 0, 0, 1, 0, 0], [1, 0, 0, 0, 0, 1, 1, 0, 1, 0], [1, 1, 0, 0, 0, 0, 0, 0, 1, 1], [0, 0, 0, 0, 1, 0, 1, 1, 0, 1], [0, 0, 0, 0, 1, 0, 1, 1, 1, 0], [1, 1, 0, 0, 1, 0, 1, 0, 0, 0], [1, 0, 0, 0, 1, 0, 0, 0, 1, 1], [0, 1, 0, 0, 1, 0, 1, 0, 1, 0], [0, 1, 0, 1, 1, 0, 0, 0, 0, 1], [0, 0, 0, 1, 0, 0, 1, 0, 1, 1], [1, 0, 0, 0, 0, 1, 1, 0, 0, 1], [0, 0, 0, 0, 1, 1, 0, 0, 1, 1], [0, 1, 0, 0, 0, 0, 1, 0, 1, 1], [0, 1, 0, 1, 1, 0, 1, 0, 0, 0], [1, 1, 0, 0, 0, 0, 1, 0, 0, 1], [1, 1, 0, 0, 0, 1, 0, 1, 0, 0], [1, 1, 0, 0, 0, 0, 1, 0, 1, 0], [0, 1, 1, 0, 1, 0, 0, 0, 0, 1], [0, 1, 0, 0, 0, 1, 0, 1, 1, 0], [0, 0, 1, 1, 0, 0, 0, 0, 1, 1], [0, 1, 1, 1, 0, 0, 0, 0, 1, 0], [1, 0, 0, 1, 0, 0, 1, 0, 1, 0], [0, 0, 0, 1, 0, 1, 0, 1, 1, 0], [0, 1, 1, 0, 0, 0, 0, 1, 0, 1], [1, 0, 1, 0, 1, 0, 0, 1, 0, 0], [0, 1, 1, 0, 0, 0, 0, 1, 1, 0], [0, 1, 0, 1, 0, 0, 0, 0, 1, 1], [1, 1, 1, 0, 0, 0, 0, 0, 0, 1], [0, 0, 0, 0, 1, 1, 1, 1, 0, 0], [0, 1, 1, 0, 1, 0, 0, 1, 0, 0], [0, 1, 0, 1, 1, 0, 0, 1, 0, 0], [0, 1, 1, 1, 0, 0, 0, 0, 0, 1], [1, 0, 0, 1, 0, 0, 1, 0, 0, 1], [1, 1, 0, 0, 0, 0, 0, 1, 0, 1], [0, 0, 1, 1, 0, 1, 0, 0, 0, 1], [0, 1, 1, 0, 0, 0, 1, 1, 0, 0], [1, 0, 0, 0, 1, 0, 1, 0, 1, 0], [1, 1, 1, 0, 0, 1, 0, 0, 0, 0], [1, 0, 0, 0, 0, 0, 1, 1, 0, 1], [0, 1, 0, 0, 0, 0, 0, 1, 1, 1], [1, 0, 0, 0, 0, 0, 1, 1, 1, 0], [0, 1, 0, 0, 1, 1, 0, 0, 1, 0], [1, 1, 0, 1, 0, 0, 0, 0, 0, 1], [0, 0, 0, 1, 1, 0, 0, 1, 1, 0], [0, 0, 0, 1, 1, 1, 1, 0, 0, 0], [0, 1, 0, 1, 0, 0, 1, 1, 0, 0], [0, 0, 1, 0, 1, 0, 1, 0, 0, 1], [0, 0, 1, 0, 1, 0, 1, 0, 1, 0], [1, 0, 0, 0, 0, 0, 1, 0, 1, 1], [0, 1, 0, 1, 0, 1, 0, 0, 0, 1], [1, 0, 0, 0, 0, 1, 0, 1, 1, 0], [0, 1, 0, 1, 0, 0, 0, 1, 1, 0], [0, 0, 0, 1, 1, 1, 0, 1, 0, 0], [1, 0, 1, 1, 0, 0, 0, 0, 0, 1], [1, 1, 0, 1, 0, 0, 1, 0, 0, 0], [0, 1, 1, 0, 0, 1, 1, 0, 0, 0], [1, 0, 0, 1, 1, 0, 0, 0, 0, 1], [0, 1, 0, 0, 1, 0, 0, 0, 1, 1], [0, 0, 0, 0, 0, 1, 0, 1, 1, 1], [1, 0, 0, 0, 0, 1, 1, 1, 0, 0], [0, 1, 0, 1, 0, 0, 0, 1, 0, 1], [1, 1, 1, 0, 0, 0, 1, 0, 0, 0], [0, 0, 1, 1, 1, 0, 1, 0, 0, 0], [0, 0, 1, 0, 1, 0, 0, 0, 1, 1], [0, 1, 1, 0, 0, 0, 1, 0, 0, 1], [1, 0, 1, 1, 0, 0, 1, 0, 0, 0], [0, 1, 1, 0, 0, 0, 1, 0, 1, 0], [0, 1, 1, 0, 0, 1, 0, 1, 0, 0], [0, 0, 1, 1, 1, 0, 0, 0, 0, 1], [0, 0, 0, 0, 0, 1, 1, 0, 1, 1], [1, 0, 1, 0, 0, 1, 0, 1, 0, 0], [0, 1, 1, 0, 0, 0, 0, 0, 1, 1], [0, 0, 0, 1, 0, 1, 0, 0, 1, 1], [0, 0, 1, 1, 1, 0, 0, 1, 0, 0], [1, 0, 0, 1, 0, 0, 0, 1, 0, 1], [0, 1, 0, 0, 1, 1, 0, 1, 0, 0], [1, 0, 0, 1, 0, 0, 0, 1, 1, 0], [0, 0, 0, 0, 1, 1, 1, 0, 1, 0], [1, 0, 0, 1, 0, 1, 0, 1, 0, 0], [1, 0, 1, 0, 1, 0, 1, 0, 0, 0], [0, 0, 1, 0, 0, 0, 1, 0, 1, 1], [0, 0, 0, 1, 0, 0, 0, 1, 1, 1], [0, 0, 0, 1, 0, 1, 1, 0, 0, 1], [0, 0, 0, 1, 0, 1, 1, 0, 1, 0], [0, 0, 1, 1, 0, 0, 1, 0, 1, 0], [1, 1, 0, 1, 0, 1, 0, 0, 0, 0], [1, 1, 0, 0, 0, 0, 0, 1, 1, 0], [0, 0, 0, 1, 1, 0, 1, 1, 0, 0], [0, 1, 0, 0, 0, 1, 0, 1, 0, 1], [0, 0, 1, 1, 0, 0, 1, 0, 0, 1], [0, 0, 1, 0, 0, 1, 0, 1, 1, 0], [0, 0, 1, 0, 1, 0, 0, 1, 0, 1], [1, 1, 1, 1, 0, 0, 0, 0, 0, 0], [0, 0, 0, 0, 0, 1, 1, 1, 0, 1], [0, 1, 0, 1, 0, 0, 1, 0, 0, 1], [0, 1, 0, 1, 0, 0, 1, 0, 1, 0], [1, 0, 1, 0, 0, 0, 1, 1, 0, 0], [0, 0, 0, 1, 0, 1, 0, 1, 0, 1], [0, 0, 1, 0, 0, 1, 1, 1, 0, 0], [0, 0, 0, 1, 1, 0, 0, 1, 0, 1], [1, 0, 1, 0, 0, 0, 0, 1, 1, 0], [0, 0, 1, 0, 0, 1, 0, 1, 0, 1], [0, 1, 0, 1, 0, 1, 1, 0, 0, 0], [0, 1, 1, 1, 0, 0, 0, 1, 0, 0], [1, 0, 0, 0, 1, 0, 0, 1, 0, 1], [1, 0, 0, 0, 1, 0, 0, 1, 1, 0], [1, 0, 0, 0, 0, 1, 0, 1, 0, 1], [0, 0, 1, 0, 1, 1, 0, 1, 0, 0], [1, 0, 1, 1, 0, 1, 0, 0, 0, 0], [0, 1, 1, 1, 1, 0, 0, 0, 0, 0], [0, 1, 0, 0, 1, 0, 0, 1, 0, 1], [1, 0, 0, 1, 1, 1, 0, 0, 0, 0], [0, 0, 1, 0, 1, 0, 1, 1, 0, 0], [0, 0, 0, 1, 1, 0, 1, 0, 1, 0], [1, 1, 0, 1, 1, 0, 0, 0, 0, 0], [0, 1, 0, 0, 1, 0, 1, 0, 0, 1], [1, 1, 0, 0, 0, 1, 0, 0, 0, 1], [1, 1, 1, 0, 1, 0, 0, 0, 0, 0], [1, 1, 0, 0, 0, 1, 0, 0, 1, 0], [0, 1, 0, 0, 0, 1, 0, 0, 1, 1], [0, 0, 0, 1, 0, 0, 1, 1, 1, 0], [1, 1, 1, 0, 0, 0, 0, 1, 0, 0], [0, 1, 0, 0, 0, 1, 1, 0, 0, 1], [1, 0, 0, 1, 0, 0, 1, 1, 0, 0], [0, 0, 1, 0, 1, 0, 0, 1, 1, 0], [0, 0, 1, 1, 0, 1, 0, 1, 0, 0], [1, 0, 1, 0, 1, 0, 0, 0, 1, 0], [0, 0, 0, 0, 1, 1, 1, 0, 0, 1], [0, 0, 0, 0, 0, 1, 1, 1, 1, 0], [0, 0, 0, 1, 0, 0, 1, 1, 0, 1]]\n"
     ]
    }
   ],
   "source": [
    "import itertools\n",
    "def permutations(iterable):\n",
    "    if len(iterable) == 1:\n",
    "        yield (iterable[0], )\n",
    "    else:\n",
    "        for perm in permutations(iterable[1:]):\n",
    "            for i in range(len(iterable)):\n",
    "                yield perm[:i] + (iterable[0], ) + perm[i:]\n",
    "\n",
    "def unique_permutations(iterable):\n",
    "    return list(set(permutations(iterable)))\n",
    "                \n",
    "print(list(map(list, unique_permutations(massiv(5)))))"
   ]
  },
  {
   "cell_type": "code",
   "execution_count": 1,
   "id": "38dd3298-1128-4dc8-b6dc-c6fa51dce562",
   "metadata": {},
   "outputs": [
    {
     "name": "stdout",
     "output_type": "stream",
     "text": [
      "(((())))\n",
      "((()()))\n",
      "((())())\n",
      "((()))()\n",
      "(()(()))\n",
      "(()()())\n",
      "(()())()\n",
      "(())(())\n",
      "(())()()\n",
      "()((()))\n",
      "()(()())\n",
      "()(())()\n",
      "()()(())\n",
      "()()()()\n"
     ]
    }
   ],
   "source": [
    "def foo(search, left, right, pairs):\n",
    "    if left == pairs and right == pairs:\n",
    "        print(search)\n",
    "    else:\n",
    "        if left < pairs:\n",
    "            foo(search + '(', left + 1, right, pairs)\n",
    "        if right < left:\n",
    "            foo(search + ')', left, right + 1, pairs)\n",
    "\n",
    "\n",
    "foo('', 0, 0, 4)\n"
   ]
  },
  {
   "cell_type": "code",
   "execution_count": 3,
   "id": "33f5db5e-be48-4eed-9319-960ba9290ca2",
   "metadata": {},
   "outputs": [
    {
     "name": "stdout",
     "output_type": "stream",
     "text": [
      "[[1, 1, 1, 1, -1, -1, -1, -1], [1, 1, 1, -1, 1, -1, -1, -1], [1, 1, 1, -1, -1, 1, -1, -1], [1, 1, 1, -1, -1, -1, 1, -1], [1, 1, -1, 1, 1, -1, -1, -1], [1, 1, -1, 1, -1, 1, -1, -1], [1, 1, -1, 1, -1, -1, 1, -1], [1, 1, -1, -1, 1, 1, -1, -1], [1, 1, -1, -1, 1, -1, 1, -1], [1, -1, 1, 1, 1, -1, -1, -1], [1, -1, 1, 1, -1, 1, -1, -1], [1, -1, 1, 1, -1, -1, 1, -1], [1, -1, 1, -1, 1, 1, -1, -1], [1, -1, 1, -1, 1, -1, 1, -1]]\n"
     ]
    }
   ],
   "source": [
    "def generate_bracket_sequences(n): #у этого алготимта по идее сложность n * 2 в степени n \n",
    "    result = [[]]\n",
    "    for i in range(2*n):\n",
    "        current = []\n",
    "        for seq in result:\n",
    "            num_open, num_close = seq.count(1), seq.count(-1)\n",
    "            if num_open < n:\n",
    "                current.append(seq + [1])\n",
    "            if num_open > num_close:\n",
    "                current.append(seq + [-1])\n",
    "        result = current\n",
    "    return result\n",
    "\n",
    "n = 4\n",
    "sequences = generate_bracket_sequences(n)\n",
    "print(sequences)"
   ]
  },
  {
   "cell_type": "code",
   "execution_count": 18,
   "id": "38fbbb8e-15c3-4b5b-9766-91244cb8853b",
   "metadata": {},
   "outputs": [
    {
     "name": "stdin",
     "output_type": "stream",
     "text": [
      " 3\n"
     ]
    },
    {
     "name": "stdout",
     "output_type": "stream",
     "text": [
      "[1, 1, 1, -1, -1, -1]\n",
      "[1, 1, -1, 1, -1, -1]\n",
      "[1, -1, 1, 1, -1, -1]\n",
      "[1, 1, -1, -1, 1, -1]\n",
      "[1, -1, 1, -1, 1, -1]\n"
     ]
    }
   ],
   "source": [
    "from numba import jit\n",
    "\n",
    "@jit\n",
    "def generate_parentheses(n):\n",
    "    n *= 2\n",
    "    for mask in range(2**n):\n",
    "        balance, is_good, answer = 0, True,[]\n",
    "        for bit in range(n):\n",
    "            if (mask >> bit) & 1:\n",
    "                balance += 1\n",
    "                answer.append(1)\n",
    "            else:\n",
    "                balance -= 1\n",
    "                if balance < 0:\n",
    "                    is_good = False\n",
    "                    break\n",
    "                answer.append(-1)\n",
    "        if is_good and balance == 0:\n",
    "            print(answer)\n",
    "\n",
    "n = int(input())\n",
    "generate_parentheses(n)"
   ]
  },
  {
   "cell_type": "code",
   "execution_count": 5,
   "id": "31d371a3-1d0f-44b0-865a-6d7c48930b22",
   "metadata": {},
   "outputs": [
    {
     "name": "stdout",
     "output_type": "stream",
     "text": [
      "--- 0.0480036735534668 seconds ---\n"
     ]
    }
   ],
   "source": [
    "import numpy as np\n",
    "import time\n",
    "A = np.random.randint (0, 2, (300, 300))\n",
    "start_time = time.time()\n",
    "np.dot(A, A)\n",
    "print(\"--- %s seconds ---\" % (time.time() - start_time))"
   ]
  },
  {
   "cell_type": "code",
   "execution_count": null,
   "id": "1caffe3b-64c3-4d42-b227-4878cf099180",
   "metadata": {},
   "outputs": [],
   "source": [
    "import networkx as nx\n",
    "\n",
    "def build_root_tree(parentheses):\n",
    "    stack = []\n",
    "    graph = nx.Graph()\n",
    "    node_counter = 1\n",
    "\n",
    "    for p in parentheses:\n",
    "        if p == 1:  # открывающая скобка\n",
    "            stack.append(node_counter)\n",
    "            if len(stack) > 1:\n",
    "                graph.add_edge(stack[-2], stack[-1])\n",
    "            node_counter += 1\n",
    "        elif p == -1:  # закрывающая скобка\n",
    "            if len(stack) > 1:\n",
    "                graph.add_edge(stack[-1], stack[-2])\n",
    "            \n",
    "    return graph.edges()\n",
    "\n",
    "# Пример использования функции: попытка создания из скобочной структуры графа\n",
    "parentheses = [1, 1, 1, -1, 1, -1, -1, -1, 1, -1]\n",
    "result = build_root_tree(parentheses)\n",
    "print(result)"
   ]
  },
  {
   "cell_type": "code",
   "execution_count": null,
   "id": "fbbc0a9c-0b7c-472f-a8f5-f27856d0774e",
   "metadata": {},
   "outputs": [],
   "source": [
    "Критерий невырожденного графа получен\n",
    "1) Количество вершин четно? Если нет - граф вырожден, иначе пункт 2\n",
    "2) Где-то есть вершина с больше чем одним концевым соседом? Если да, то граф вырожден, иначе пункт 3\n",
    "3) Есть развилки? Если нет, граф невырожден, если да, пункт 4\n",
    "4) При отсечении пары вершин до развилки выполнился один из предыдущих пунктов? Если да, тогда процесс окончен, если нет, повторить пункт 4\n"
   ]
  },
  {
   "cell_type": "code",
   "execution_count": null,
   "id": "ce8d9cec-f13e-45fb-9c34-f1d79232c67d",
   "metadata": {},
   "outputs": [],
   "source": [
    "Есть ли какой то список планарных, неизоморфных, связных, не имеющих циклов графов?"
   ]
  },
  {
   "cell_type": "code",
   "execution_count": 3,
   "id": "116e8d1f-d4ea-4342-bb65-8012808aec03",
   "metadata": {},
   "outputs": [],
   "source": [
    "def check_odd_branches(arr):\n",
    "    def dfs(u, parent, visited, odd_nodes):\n",
    "        visited[u] = True\n",
    "        if len(arr[u]) % 2 == 0:\n",
    "            odd_nodes[u] = False\n",
    "        else:\n",
    "            odd_nodes[u] = True\n",
    "        for v in arr[u]:\n",
    "            if not visited[v]:\n",
    "                dfs(v, u, visited, odd_nodes)\n",
    "    \n",
    "    n = len(arr)\n",
    "    visited = [False] * n\n",
    "    odd_nodes = [False] * n\n",
    "    odd_branches = 0\n",
    "\n",
    "    for i in range(n):\n",
    "        if not visited[i]:\n",
    "            dfs(i, -1, visited, odd_nodes)\n",
    "            if sum(odd_nodes) > 1:\n",
    "                odd_branches += 1\n",
    "\n",
    "    return 0 if odd_branches > 1 else 1"
   ]
  },
  {
   "cell_type": "code",
   "execution_count": 4,
   "id": "5da771c8-4980-461d-87ab-c093209a7a5b",
   "metadata": {},
   "outputs": [
    {
     "name": "stdout",
     "output_type": "stream",
     "text": [
      "1\n",
      "1\n",
      "1\n"
     ]
    }
   ],
   "source": [
    "arr1 = [[1], [0, 2], [1, 3], [2]]\n",
    "print(check_odd_branches(arr1))  # Output: 1\n",
    "\n",
    "arr2 = [[1, 2], [0, 3], [0, 4], [1], [2]]\n",
    "print(check_odd_branches(arr2))  # Output: 0\n",
    "\n",
    "arr3 = [[1, 2], [0, 3], [0, 4], [1, 5], [2], [3]]\n",
    "print(check_odd_branches(arr3))  # Output: 1\n"
   ]
  },
  {
   "cell_type": "code",
   "execution_count": 11,
   "id": "f77b34a4-2dcf-40c5-8f20-0904c5a98dae",
   "metadata": {},
   "outputs": [
    {
     "name": "stdout",
     "output_type": "stream",
     "text": [
      "defaultdict(<class 'list'>, {0: [1], 1: [2, 2], 3: [4], 4: [5, 5, 6]})\n"
     ]
    }
   ],
   "source": [
    "from collections import defaultdict\n",
    "\n",
    "def check_odd_branches_witn_tree_traversal(arr):\n",
    "    graph = defaultdict(list)\n",
    "    for i in range(len(arr)-1):\n",
    "        if arr[i] == 1:\n",
    "            graph[i] = [i+1]\n",
    "        else:\n",
    "            for j in range(i-1, -1, -1):\n",
    "                if arr[j] == 1:\n",
    "                    graph[j].append(i)\n",
    "                    break\n",
    "    return graph\n",
    "\n",
    "# Пример использования\n",
    "arr = [1,1,-1,1,1,-1,-1,-1]\n",
    "result = check_odd_branches_witn_tree_traversal(arr)\n",
    "print(result)\n"
   ]
  },
  {
   "cell_type": "code",
   "execution_count": 16,
   "id": "0b89c2aa-9099-459c-a402-f08eb6276f0a",
   "metadata": {},
   "outputs": [
    {
     "ename": "KeyError",
     "evalue": "1",
     "output_type": "error",
     "traceback": [
      "\u001b[1;31m---------------------------------------------------------------------------\u001b[0m",
      "\u001b[1;31mKeyError\u001b[0m                                  Traceback (most recent call last)",
      "Cell \u001b[1;32mIn[16], line 30\u001b[0m\n\u001b[0;32m     28\u001b[0m arr \u001b[38;5;241m=\u001b[39m [\u001b[38;5;241m1\u001b[39m, \u001b[38;5;241m1\u001b[39m, \u001b[38;5;241m-\u001b[39m\u001b[38;5;241m1\u001b[39m, \u001b[38;5;241m1\u001b[39m, \u001b[38;5;241m-\u001b[39m\u001b[38;5;241m1\u001b[39m, \u001b[38;5;241m-\u001b[39m\u001b[38;5;241m1\u001b[39m, \u001b[38;5;241m1\u001b[39m, \u001b[38;5;241m1\u001b[39m, \u001b[38;5;241m-\u001b[39m\u001b[38;5;241m1\u001b[39m, \u001b[38;5;241m-\u001b[39m\u001b[38;5;241m1\u001b[39m, \u001b[38;5;241m-\u001b[39m\u001b[38;5;241m1\u001b[39m]\n\u001b[0;32m     29\u001b[0m graph \u001b[38;5;241m=\u001b[39m check_odd_branches_with_tree_traversal(arr)\n\u001b[1;32m---> 30\u001b[0m result \u001b[38;5;241m=\u001b[39m \u001b[43mfind_multiple_odd_branches\u001b[49m\u001b[43m(\u001b[49m\u001b[43mgraph\u001b[49m\u001b[43m)\u001b[49m\n\u001b[0;32m     31\u001b[0m \u001b[38;5;28mprint\u001b[39m(result)\n",
      "Cell \u001b[1;32mIn[16], line 18\u001b[0m, in \u001b[0;36mfind_multiple_odd_branches\u001b[1;34m(graph)\u001b[0m\n\u001b[0;32m     16\u001b[0m \u001b[38;5;28;01mfor\u001b[39;00m node \u001b[38;5;129;01min\u001b[39;00m graph:\n\u001b[0;32m     17\u001b[0m     \u001b[38;5;28;01mif\u001b[39;00m \u001b[38;5;129;01mnot\u001b[39;00m visited[node]:\n\u001b[1;32m---> 18\u001b[0m         \u001b[43mcount_odd_vertices\u001b[49m\u001b[43m(\u001b[49m\u001b[43mgraph\u001b[49m\u001b[43m,\u001b[49m\u001b[43m \u001b[49m\u001b[43mnode\u001b[49m\u001b[43m,\u001b[49m\u001b[43m \u001b[49m\u001b[43mvisited\u001b[49m\u001b[43m,\u001b[49m\u001b[43m \u001b[49m\u001b[43mcounts\u001b[49m\u001b[43m)\u001b[49m\n\u001b[0;32m     20\u001b[0m \u001b[38;5;28;01mfor\u001b[39;00m node, neighbors \u001b[38;5;129;01min\u001b[39;00m graph\u001b[38;5;241m.\u001b[39mitems():\n\u001b[0;32m     21\u001b[0m     odd_neighbors \u001b[38;5;241m=\u001b[39m \u001b[38;5;28msum\u001b[39m(counts[neighbor] \u001b[38;5;241m%\u001b[39m \u001b[38;5;241m2\u001b[39m \u001b[38;5;241m!=\u001b[39m \u001b[38;5;241m0\u001b[39m \u001b[38;5;28;01mfor\u001b[39;00m neighbor \u001b[38;5;129;01min\u001b[39;00m neighbors)\n",
      "Cell \u001b[1;32mIn[16], line 6\u001b[0m, in \u001b[0;36mcount_odd_vertices\u001b[1;34m(graph, start, visited, counts)\u001b[0m\n\u001b[0;32m      3\u001b[0m counts[start] \u001b[38;5;241m=\u001b[39m \u001b[38;5;241m1\u001b[39m \u001b[38;5;28;01mif\u001b[39;00m \u001b[38;5;28mlen\u001b[39m(graph[start]) \u001b[38;5;241m%\u001b[39m \u001b[38;5;241m2\u001b[39m \u001b[38;5;241m!=\u001b[39m \u001b[38;5;241m0\u001b[39m \u001b[38;5;28;01melse\u001b[39;00m \u001b[38;5;241m0\u001b[39m\n\u001b[0;32m      5\u001b[0m \u001b[38;5;28;01mfor\u001b[39;00m neighbor \u001b[38;5;129;01min\u001b[39;00m graph[start]:\n\u001b[1;32m----> 6\u001b[0m     \u001b[38;5;28;01mif\u001b[39;00m \u001b[38;5;129;01mnot\u001b[39;00m \u001b[43mvisited\u001b[49m\u001b[43m[\u001b[49m\u001b[43mneighbor\u001b[49m\u001b[43m]\u001b[49m:\n\u001b[0;32m      7\u001b[0m         counts[start] \u001b[38;5;241m+\u001b[39m\u001b[38;5;241m=\u001b[39m count_odd_vertices(graph, neighbor, visited, counts)\n\u001b[0;32m      9\u001b[0m \u001b[38;5;28;01mreturn\u001b[39;00m counts[start]\n",
      "\u001b[1;31mKeyError\u001b[0m: 1"
     ]
    }
   ],
   "source": [
    "def count_odd_vertices(graph, start, visited, counts):\n",
    "    visited[start] = True\n",
    "    counts[start] = 1 if len(graph[start]) % 2 != 0 else 0\n",
    "\n",
    "    for neighbor in graph[start]:\n",
    "        if not visited[neighbor]:\n",
    "            counts[start] += count_odd_vertices(graph, neighbor, visited, counts)\n",
    "\n",
    "    return counts[start]\n",
    "\n",
    "def find_multiple_odd_branches(graph):\n",
    "    multiple_odd_branch_vertices = []\n",
    "    visited = {node: False for node in graph}\n",
    "    counts = {node: 0 for node in graph}\n",
    "\n",
    "    for node in graph:\n",
    "        if not visited[node]:\n",
    "            count_odd_vertices(graph, node, visited, counts)\n",
    "\n",
    "    for node, neighbors in graph.items():\n",
    "        odd_neighbors = sum(counts[neighbor] % 2 != 0 for neighbor in neighbors)\n",
    "        if odd_neighbors > 1:\n",
    "            multiple_odd_branch_vertices.append(node)\n",
    "\n",
    "    return multiple_odd_branch_vertices\n",
    "\n",
    "# Пример использования\n",
    "arr = [1, 1, -1, 1, -1, -1, 1, 1, -1, -1, -1]\n",
    "graph = check_odd_branches_with_tree_traversal(arr)\n",
    "result = find_multiple_odd_branches(graph)\n",
    "print(result)"
   ]
  },
  {
   "cell_type": "code",
   "execution_count": 3,
   "id": "516dc982-2367-4740-9ed2-7dda6c6f4aab",
   "metadata": {},
   "outputs": [
    {
     "ename": "IndexError",
     "evalue": "list index out of range",
     "output_type": "error",
     "traceback": [
      "\u001b[1;31m---------------------------------------------------------------------------\u001b[0m",
      "\u001b[1;31mIndexError\u001b[0m                                Traceback (most recent call last)",
      "Cell \u001b[1;32mIn[3], line 27\u001b[0m\n\u001b[0;32m     25\u001b[0m \u001b[38;5;66;03m# Пример использования\u001b[39;00m\n\u001b[0;32m     26\u001b[0m arr \u001b[38;5;241m=\u001b[39m [\u001b[38;5;241m1\u001b[39m, \u001b[38;5;241m-\u001b[39m\u001b[38;5;241m1\u001b[39m, \u001b[38;5;241m1\u001b[39m, \u001b[38;5;241m1\u001b[39m, \u001b[38;5;241m-\u001b[39m\u001b[38;5;241m1\u001b[39m, \u001b[38;5;241m-\u001b[39m\u001b[38;5;241m1\u001b[39m]\n\u001b[1;32m---> 27\u001b[0m graph \u001b[38;5;241m=\u001b[39m \u001b[43marray_to_graph\u001b[49m\u001b[43m(\u001b[49m\u001b[43marr\u001b[49m\u001b[43m)\u001b[49m\n\u001b[0;32m     28\u001b[0m \u001b[38;5;28mprint\u001b[39m(graph\u001b[38;5;241m.\u001b[39medges())\n",
      "Cell \u001b[1;32mIn[3], line 19\u001b[0m, in \u001b[0;36marray_to_graph\u001b[1;34m(arr)\u001b[0m\n\u001b[0;32m     17\u001b[0m         \u001b[38;5;28;01mwhile\u001b[39;00m stack[\u001b[38;5;241m-\u001b[39m\u001b[38;5;241m1\u001b[39m] \u001b[38;5;241m!=\u001b[39m next_node:\n\u001b[0;32m     18\u001b[0m             prev_node \u001b[38;5;241m=\u001b[39m stack\u001b[38;5;241m.\u001b[39mpop()\n\u001b[1;32m---> 19\u001b[0m             G\u001b[38;5;241m.\u001b[39madd_edge(prev_node, \u001b[43mstack\u001b[49m\u001b[43m[\u001b[49m\u001b[38;5;241;43m-\u001b[39;49m\u001b[38;5;241;43m1\u001b[39;49m\u001b[43m]\u001b[49m)\n\u001b[0;32m     21\u001b[0m     current_node \u001b[38;5;241m=\u001b[39m next_node\n\u001b[0;32m     23\u001b[0m \u001b[38;5;28;01mreturn\u001b[39;00m G\n",
      "\u001b[1;31mIndexError\u001b[0m: list index out of range"
     ]
    }
   ],
   "source": [
    "import networkx as nx\n",
    "\n",
    "def array_to_graph(arr):\n",
    "    G = nx.Graph()\n",
    "    current_node = 0\n",
    "    visited = {0}\n",
    "    stack = [0]\n",
    "    \n",
    "    for i in arr:\n",
    "        next_node = current_node + i\n",
    "        \n",
    "        if next_node not in visited:\n",
    "            G.add_edge(current_node, next_node)\n",
    "            visited.add(next_node)\n",
    "            stack.append(next_node)\n",
    "        else:\n",
    "            while stack[-1] != next_node:\n",
    "                prev_node = stack.pop()\n",
    "                G.add_edge(prev_node, stack[-1])\n",
    "        \n",
    "        current_node = next_node\n",
    "    \n",
    "    return G\n",
    "\n",
    "# Пример использования\n",
    "arr = [1, -1, 1, 1, -1, -1]\n",
    "graph = array_to_graph(arr)\n",
    "print(graph.edges())\n"
   ]
  },
  {
   "cell_type": "code",
   "execution_count": 6,
   "id": "7527f28f-74e9-4c68-9fb7-6900f06f2029",
   "metadata": {},
   "outputs": [
    {
     "name": "stdout",
     "output_type": "stream",
     "text": [
      "[(0, 1), (1, 2)]\n"
     ]
    }
   ],
   "source": [
    "import networkx as nx\n",
    "\n",
    "def array_to_graph(arr):\n",
    "    G = nx.Graph()\n",
    "    current_node = 0\n",
    "    visited = {0}\n",
    "    stack = [0]\n",
    "    \n",
    "    for i in arr:\n",
    "        next_node = current_node + i\n",
    "        \n",
    "        if next_node not in visited:\n",
    "            G.add_edge(current_node, next_node)\n",
    "            visited.add(next_node)\n",
    "            stack.append(next_node)\n",
    "        else:\n",
    "            while stack and stack[-1] != next_node:\n",
    "                prev_node = stack.pop()\n",
    "                if stack:\n",
    "                    G.add_edge(prev_node, stack[-1])\n",
    "        \n",
    "        current_node = next_node\n",
    "    \n",
    "    return G\n",
    "\n",
    "# Пример использования\n",
    "arr = [1, -1, 1, 1, -1, -1]\n",
    "graph = array_to_graph(arr)\n",
    "print(graph.edges())"
   ]
  },
  {
   "cell_type": "code",
   "execution_count": null,
   "id": "55a18022-c6c0-4348-93ac-219f91c4de8e",
   "metadata": {},
   "outputs": [],
   "source": []
  }
 ],
 "metadata": {
  "kernelspec": {
   "display_name": "Python 3 (ipykernel)",
   "language": "python",
   "name": "python3"
  },
  "language_info": {
   "codemirror_mode": {
    "name": "ipython",
    "version": 3
   },
   "file_extension": ".py",
   "mimetype": "text/x-python",
   "name": "python",
   "nbconvert_exporter": "python",
   "pygments_lexer": "ipython3",
   "version": "3.12.0"
  }
 },
 "nbformat": 4,
 "nbformat_minor": 5
}
